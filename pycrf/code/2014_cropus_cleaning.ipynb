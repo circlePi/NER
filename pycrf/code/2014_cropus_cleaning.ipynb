{
 "cells": [
  {
   "cell_type": "code",
   "execution_count": 1,
   "metadata": {},
   "outputs": [],
   "source": [
    "text = open('../data/raw_2014.txt', 'r').read()"
   ]
  },
  {
   "cell_type": "code",
   "execution_count": 2,
   "metadata": {
    "collapsed": true
   },
   "outputs": [],
   "source": [
    "def q_to_b(q_str):\n",
    "    \"\"\"\n",
    "    功能：非中文文字的全角转半角\n",
    "    输入：一个字符串\n",
    "    输出：半角字符串\n",
    "    \n",
    "    \"\"\"\n",
    "    b_str = \"\"\n",
    "    for uchar in q_str:\n",
    "        inside_code = ord(uchar)\n",
    "        if inside_code == 12288:  \n",
    "            inside_code = 32\n",
    "        elif 65374 >= inside_code >= 65281:  \n",
    "            inside_code -= 65248\n",
    "        b_str += chr(inside_code)\n",
    "    return b_str\n"
   ]
  },
  {
   "cell_type": "code",
   "execution_count": 3,
   "metadata": {
    "collapsed": true
   },
   "outputs": [],
   "source": [
    "text = q_to_b(text)"
   ]
  },
  {
   "cell_type": "code",
   "execution_count": 5,
   "metadata": {
    "collapsed": true
   },
   "outputs": [],
   "source": [
    "sentences = text.split('\\n')"
   ]
  },
  {
   "cell_type": "code",
   "execution_count": 6,
   "metadata": {},
   "outputs": [
    {
     "name": "stdout",
     "output_type": "stream",
     "text": [
      "num_seqence: 286269\n"
     ]
    }
   ],
   "source": [
    "print('num_seqence:', len(sentences))"
   ]
  },
  {
   "cell_type": "code",
   "execution_count": 7,
   "metadata": {},
   "outputs": [
    {
     "data": {
      "text/plain": [
       "'人民网/nz 1月1日/t 讯/ng 据/p 《/w [纽约/nsf 时报/n]/nz 》/w 报道/v ,/w 美国/nsf 华尔街/nsf 股市/n 在/p 2013年/t 的/ude1 最后/f 一天/mq 继续/v 上涨/vn ,/w 和/cc [全球/n 股市/n]/nz 一样/uyy ,/w 都/d 以/p [最高/a 纪录/n]/nz 或/c 接近/v [最高/a 纪录/n]/nz 结束/v 本/rz 年/qt 的/ude1 交易/vn 。/w '"
      ]
     },
     "execution_count": 7,
     "metadata": {},
     "output_type": "execute_result"
    }
   ],
   "source": [
    "sentences[0]"
   ]
  },
  {
   "cell_type": "code",
   "execution_count": 8,
   "metadata": {
    "collapsed": true
   },
   "outputs": [],
   "source": [
    "import re\n",
    "\n",
    "def sent_sep(sent):\n",
    "    \"\"\"将句子和标注分割\"\"\"\n",
    "    sent = sent.strip()\n",
    "    \n",
    "    # 处理 '[]'\n",
    "    if '[' in sent:\n",
    "        sent = sent.replace(' [',' ')\n",
    "        sent = re.sub(r']/[a-z]+', '', sent)\n",
    "    \n",
    "    sent = sent.split(' ')\n",
    "    \n",
    "    # 处理空\n",
    "    sent = [item for item in sent if '/' in item]\n",
    "    \n",
    "    sents, tags = [], []\n",
    "    for item in sent:\n",
    "        tmp = item.split('/')\n",
    "        try:\n",
    "            sents.append(tmp[0])\n",
    "            tags.append(tmp[1])\n",
    "        except:\n",
    "            print(sent)\n",
    "    return sents, tags\n"
   ]
  },
  {
   "cell_type": "code",
   "execution_count": 9,
   "metadata": {
    "collapsed": true
   },
   "outputs": [],
   "source": [
    "new_sentences, new_targets = [], []\n",
    "for sent in sentences:\n",
    "    sents,tags = sent_sep(sent)\n",
    "    new_sentences.append(sents)\n",
    "    new_targets.append(tags)"
   ]
  },
  {
   "cell_type": "code",
   "execution_count": 10,
   "metadata": {},
   "outputs": [
    {
     "name": "stdout",
     "output_type": "stream",
     "text": [
      "['人民网', '1月1日', '讯', '据', '《', '纽约', '时报', '》', '报道', ',', '美国', '华尔街', '股市', '在', '2013年', '的', '最后', '一天', '继续', '上涨', ',', '和', '全球', '股市', '一样', ',', '都', '以', '最高', '纪录', '或', '接近', '最高', '纪录', '结束', '本', '年', '的', '交易', '。']\n"
     ]
    }
   ],
   "source": [
    "print(new_sentences[0])"
   ]
  },
  {
   "cell_type": "code",
   "execution_count": 11,
   "metadata": {},
   "outputs": [
    {
     "name": "stdout",
     "output_type": "stream",
     "text": [
      "['nz', 't', 'ng', 'p', 'w', 'nsf', 'n', 'w', 'v', 'w', 'nsf', 'nsf', 'n', 'p', 't', 'ude1', 'f', 'mq', 'v', 'vn', 'w', 'cc', 'n', 'n', 'uyy', 'w', 'd', 'p', 'a', 'n', 'c', 'v', 'a', 'n', 'v', 'rz', 'qt', 'ude1', 'vn', 'w']\n"
     ]
    }
   ],
   "source": [
    "print(new_targets[0])"
   ]
  },
  {
   "cell_type": "code",
   "execution_count": 12,
   "metadata": {
    "collapsed": true
   },
   "outputs": [],
   "source": [
    "def tag_process(tags):\n",
    "    \"\"\"\n",
    "    给 人物 地点 机构 时间 打上 PER，LOC，ORG，T 标签\n",
    "    其他为 O\n",
    "    采用BIO标记\n",
    "    \"\"\"\n",
    "    new_tags = []\n",
    "    for tag in tags:\n",
    "        if tag == 't':\n",
    "            new_tag = 'T'\n",
    "        elif tag.startswith('nr'):\n",
    "            new_tag = 'PER'\n",
    "        elif tag.startswith('ns'):\n",
    "            new_tag = 'LOC'\n",
    "        elif tag.startswith('nt'):\n",
    "            new_tag = 'ORG'\n",
    "        else:\n",
    "            new_tag  = 'O'\n",
    "        new_tags.append(new_tag)\n",
    "        \n",
    "    tags = []\n",
    "    for index, tag in enumerate(new_tags):\n",
    "        if tag in ['PER', 'LOC','T','ORG']:\n",
    "            if index==0:\n",
    "                new_tag = 'B_'+tag\n",
    "            else:\n",
    "                if new_tags[index-1]=='O':\n",
    "                    new_tag = 'B_'+tag\n",
    "                else:\n",
    "                    new_tag = 'I_'+tag\n",
    "        else:\n",
    "            new_tag = tag\n",
    "        tags.append(new_tag)\n",
    "    return tags\n",
    "    "
   ]
  },
  {
   "cell_type": "code",
   "execution_count": 13,
   "metadata": {
    "collapsed": true
   },
   "outputs": [],
   "source": [
    "targets = []\n",
    "for tags in new_targets:\n",
    "    tags = tag_process(tags)\n",
    "    targets.append(tags)"
   ]
  },
  {
   "cell_type": "code",
   "execution_count": 14,
   "metadata": {},
   "outputs": [
    {
     "name": "stdout",
     "output_type": "stream",
     "text": [
      "['O', 'B_T', 'O', 'O', 'O', 'B_LOC', 'O', 'O', 'O', 'O', 'B_LOC', 'I_LOC', 'O', 'O', 'B_T', 'O', 'O', 'O', 'O', 'O', 'O', 'O', 'O', 'O', 'O', 'O', 'O', 'O', 'O', 'O', 'O', 'O', 'O', 'O', 'O', 'O', 'O', 'O', 'O', 'O']\n"
     ]
    }
   ],
   "source": [
    "print(targets[0])"
   ]
  },
  {
   "cell_type": "code",
   "execution_count": 15,
   "metadata": {
    "collapsed": true
   },
   "outputs": [],
   "source": [
    "import pickle\n",
    "with open('../outputs/source_word_2014_cropus.pkl','wb') as fw:\n",
    "    fw.write(pickle.dumps(new_sentences))\n",
    "with open('../outputs/target_word_2014_cropus.pkl','wb') as fw:\n",
    "    fw.write(pickle.dumps(targets))"
   ]
  },
  {
   "cell_type": "code",
   "execution_count": 16,
   "metadata": {},
   "outputs": [
    {
     "name": "stdout",
     "output_type": "stream",
     "text": [
      "人民网/O 1月1日/B_T 讯/O 据/O 《/O 纽约/B_LOC 时报/O 》/O 报道/O ,/O 美国/B_LOC 华尔街/I_LOC 股市/O 在/O 2013年/B_T 的/O 最后/O 一天/O 继续/O 上涨/O ,/O 和/O 全球/O 股市/O 一样/O ,/O 都/O 以/O 最高/O 纪录/O 或/O 接近/O 最高/O 纪录/O 结束/O 本/O 年/O 的/O 交易/O 。/O\n"
     ]
    }
   ],
   "source": [
    "#　合并词和标签, 至此，基于词的处理就结束了\n",
    "res = []\n",
    "for word, tag in zip(new_sentences[0], targets[0]):\n",
    "    res.append(word+'/'+tag)\n",
    "print(' '.join(res))"
   ]
  },
  {
   "cell_type": "code",
   "execution_count": 17,
   "metadata": {},
   "outputs": [
    {
     "name": "stdout",
     "output_type": "stream",
     "text": [
      "['人民网', '1月1日', '讯', '据', '《', '纽约', '时报', '》', '报道', ',', '美国', '华尔街', '股市', '在', '2013年', '的', '最后', '一天', '继续', '上涨', ',', '和', '全球', '股市', '一样', ',', '都', '以', '最高', '纪录', '或', '接近', '最高', '纪录', '结束', '本', '年', '的', '交易', '。']\n"
     ]
    }
   ],
   "source": [
    "print(new_sentences[0])"
   ]
  },
  {
   "cell_type": "markdown",
   "metadata": {},
   "source": [
    "### 因为后边的模型是基于字符的，所以这里还要做进一步处理"
   ]
  },
  {
   "cell_type": "code",
   "execution_count": 18,
   "metadata": {
    "collapsed": true
   },
   "outputs": [],
   "source": [
    "def sep(sent,labels):\n",
    "    new_sent = []\n",
    "    new_labels = []\n",
    "    for s, label in zip(sent,labels):\n",
    "        s = list(s)\n",
    "#         print(s)\n",
    "        n = len(s)\n",
    "        if n==1:\n",
    "            new_labels.append(label)\n",
    "            new_sent.append(s[0])\n",
    "        else:\n",
    "            for i in range(n):\n",
    "                if i > 0:\n",
    "                    label = label.replace('B','I')\n",
    "                new_labels.append(label)\n",
    "                new_sent.append(s[i])\n",
    "#     print('new_sent', new_sent)\n",
    "#     print('new_labels',new_labels)\n",
    "    return new_sent,new_labels\n",
    "        \n",
    "def init_seq(sentences, targets):\n",
    "    \"\"\"将词分割成字符，字符的标签同词的标签\"\"\"\n",
    "    new_sentences = []\n",
    "    new_targets = []\n",
    "    for sent, labels in zip(sentences,targets):\n",
    "        new_sent, new_labels = sep(sent,labels)\n",
    "        new_sentences.append(new_sent)\n",
    "        new_targets.append(new_labels)\n",
    "    return new_sentences, new_targets    \n",
    "    "
   ]
  },
  {
   "cell_type": "code",
   "execution_count": 19,
   "metadata": {},
   "outputs": [
    {
     "name": "stdout",
     "output_type": "stream",
     "text": [
      "人/O 民/O 网/O 1/B_T 月/I_T 1/I_T 日/I_T 讯/O 据/O 《/O 纽/B_LOC 约/I_LOC 时/O 报/O 》/O 报/O 道/O ,/O 美/B_LOC 国/I_LOC 华/I_LOC 尔/I_LOC 街/I_LOC 股/O 市/O 在/O 2/B_T 0/I_T 1/I_T 3/I_T 年/I_T 的/O 最/O 后/O 一/O 天/O 继/O 续/O 上/O 涨/O ,/O 和/O 全/O 球/O 股/O 市/O 一/O 样/O ,/O 都/O 以/O 最/O 高/O 纪/O 录/O 或/O 接/O 近/O 最/O 高/O 纪/O 录/O 结/O 束/O 本/O 年/O 的/O 交/O 易/O 。/O\n"
     ]
    }
   ],
   "source": [
    "new_sent, new_labels = sep(new_sentences[0],targets[0])\n",
    "res=[]\n",
    "for sent, lable in zip(new_sent, new_labels):\n",
    "    res.append(sent+'/'+lable)\n",
    "print(' '.join(res))"
   ]
  },
  {
   "cell_type": "code",
   "execution_count": 20,
   "metadata": {
    "collapsed": true
   },
   "outputs": [],
   "source": [
    "new_sentences, new_targets = init_seq(new_sentences,targets)"
   ]
  },
  {
   "cell_type": "code",
   "execution_count": 21,
   "metadata": {},
   "outputs": [
    {
     "name": "stdout",
     "output_type": "stream",
     "text": [
      "['人', '民', '网', '1', '月', '1', '日', '讯', '据', '《', '纽', '约', '时', '报', '》', '报', '道', ',', '美', '国', '华', '尔', '街', '股', '市', '在', '2', '0', '1', '3', '年', '的', '最', '后', '一', '天', '继', '续', '上', '涨', ',', '和', '全', '球', '股', '市', '一', '样', ',', '都', '以', '最', '高', '纪', '录', '或', '接', '近', '最', '高', '纪', '录', '结', '束', '本', '年', '的', '交', '易', '。']\n"
     ]
    }
   ],
   "source": [
    "print(new_sentences[0])"
   ]
  },
  {
   "cell_type": "code",
   "execution_count": 22,
   "metadata": {},
   "outputs": [
    {
     "name": "stdout",
     "output_type": "stream",
     "text": [
      "['O', 'O', 'O', 'B_T', 'I_T', 'I_T', 'I_T', 'O', 'O', 'O', 'B_LOC', 'I_LOC', 'O', 'O', 'O', 'O', 'O', 'O', 'B_LOC', 'I_LOC', 'I_LOC', 'I_LOC', 'I_LOC', 'O', 'O', 'O', 'B_T', 'I_T', 'I_T', 'I_T', 'I_T', 'O', 'O', 'O', 'O', 'O', 'O', 'O', 'O', 'O', 'O', 'O', 'O', 'O', 'O', 'O', 'O', 'O', 'O', 'O', 'O', 'O', 'O', 'O', 'O', 'O', 'O', 'O', 'O', 'O', 'O', 'O', 'O', 'O', 'O', 'O', 'O', 'O', 'O', 'O']\n"
     ]
    }
   ],
   "source": [
    "print(new_targets[0])"
   ]
  },
  {
   "cell_type": "code",
   "execution_count": 23,
   "metadata": {},
   "outputs": [
    {
     "name": "stdout",
     "output_type": "stream",
     "text": [
      "人/O 民/O 网/O 1/B_T 月/I_T 1/I_T 日/I_T 讯/O 据/O 《/O 纽/B_LOC 约/I_LOC 时/O 报/O 》/O 报/O 道/O ,/O 美/B_LOC 国/I_LOC 华/I_LOC 尔/I_LOC 街/I_LOC 股/O 市/O 在/O 2/B_T 0/I_T 1/I_T 3/I_T 年/I_T 的/O 最/O 后/O 一/O 天/O 继/O 续/O 上/O 涨/O ,/O 和/O 全/O 球/O 股/O 市/O 一/O 样/O ,/O 都/O 以/O 最/O 高/O 纪/O 录/O 或/O 接/O 近/O 最/O 高/O 纪/O 录/O 结/O 束/O 本/O 年/O 的/O 交/O 易/O 。/O\n"
     ]
    }
   ],
   "source": [
    "res = []\n",
    "for word, tag in zip(new_sentences[0], new_targets[0]):\n",
    "    res.append(word+'/'+tag)\n",
    "print(' '.join(res))"
   ]
  },
  {
   "cell_type": "code",
   "execution_count": 24,
   "metadata": {
    "collapsed": true
   },
   "outputs": [],
   "source": [
    "# 保存\n",
    "with open('../outputs/source_BIO_2014_cropus.txt','w') as fw:\n",
    "    for sent in new_sentences:\n",
    "        fw.write(\" \".join(sent)+'\\n')\n",
    "with open('../outputs/target_BIO_2014_cropus.txt','w') as fw:\n",
    "    for sent in new_targets:\n",
    "        fw.write(\" \".join(sent)+'\\n')\n",
    "            "
   ]
  }
 ],
 "metadata": {
  "kernelspec": {
   "display_name": "Python 3",
   "language": "python",
   "name": "python3"
  },
  "language_info": {
   "codemirror_mode": {
    "name": "ipython",
    "version": 3
   },
   "file_extension": ".py",
   "mimetype": "text/x-python",
   "name": "python",
   "nbconvert_exporter": "python",
   "pygments_lexer": "ipython3",
   "version": "3.6.2"
  }
 },
 "nbformat": 4,
 "nbformat_minor": 2
}
