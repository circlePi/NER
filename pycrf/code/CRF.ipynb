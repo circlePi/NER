{
 "cells": [
  {
   "cell_type": "code",
   "execution_count": 1,
   "metadata": {},
   "outputs": [],
   "source": [
    "import pycrfsuite\n",
    "import numpy as np\n",
    "from itertools import chain\n",
    "from sklearn.metrics import classification_report,confusion_matrix\n",
    "import sklearn\n",
    "from sklearn.preprocessing import LabelBinarizer"
   ]
  },
  {
   "cell_type": "markdown",
   "metadata": {},
   "source": [
    "## 加载训练数据"
   ]
  },
  {
   "cell_type": "code",
   "execution_count": 2,
   "metadata": {
    "collapsed": true
   },
   "outputs": [],
   "source": [
    "text = open('../outputs/source_BIO_2014_cropus.txt').read()\n",
    "target = open('../outputs/target_BIO_2014_cropus.txt').read()"
   ]
  },
  {
   "cell_type": "code",
   "execution_count": 3,
   "metadata": {},
   "outputs": [
    {
     "data": {
      "text/plain": [
       "'\\n[[sent0],[sent1],[sent2]]\\n'"
      ]
     },
     "execution_count": 3,
     "metadata": {},
     "output_type": "execute_result"
    }
   ],
   "source": [
    "sentences = []\n",
    "sent = text.split('\\n')\n",
    "for s in sent:\n",
    "    sentences.append(s.split(\" \"))\n",
    "\"\"\"\n",
    "[[sent0],[sent1],[sent2]]\n",
    "\"\"\""
   ]
  },
  {
   "cell_type": "code",
   "execution_count": 4,
   "metadata": {
    "collapsed": true
   },
   "outputs": [],
   "source": [
    "targets = []\n",
    "target = target.split('\\n')\n",
    "for t in target:\n",
    "    targets.append(t.split(\" \"))"
   ]
  },
  {
   "cell_type": "code",
   "execution_count": 5,
   "metadata": {
    "collapsed": true
   },
   "outputs": [],
   "source": [
    "assert len(targets[0])==len(sentences[0]), 'not equal'"
   ]
  },
  {
   "cell_type": "code",
   "execution_count": 6,
   "metadata": {},
   "outputs": [
    {
     "name": "stdout",
     "output_type": "stream",
     "text": [
      "sentences: ['人', '民', '网', '1', '月', '1', '日', '讯', '据', '《', '纽', '约', '时', '报', '》', '报', '道', ',', '美', '国', '华', '尔', '街', '股', '市', '在', '2', '0', '1', '3', '年', '的', '最', '后', '一', '天', '继', '续', '上', '涨', ',', '和', '全', '球', '股', '市', '一', '样', ',', '都', '以', '最', '高', '纪', '录', '或', '接', '近', '最', '高', '纪', '录', '结', '束', '本', '年', '的', '交', '易', '。']\n"
     ]
    }
   ],
   "source": [
    "print('sentences:',sentences[0])"
   ]
  },
  {
   "cell_type": "code",
   "execution_count": 7,
   "metadata": {},
   "outputs": [
    {
     "name": "stdout",
     "output_type": "stream",
     "text": [
      "targets: ['O', 'O', 'O', 'B_T', 'I_T', 'I_T', 'I_T', 'O', 'O', 'O', 'B_LOC', 'I_LOC', 'O', 'O', 'O', 'O', 'O', 'O', 'B_LOC', 'I_LOC', 'I_LOC', 'I_LOC', 'I_LOC', 'O', 'O', 'O', 'B_T', 'I_T', 'I_T', 'I_T', 'I_T', 'O', 'O', 'O', 'O', 'O', 'O', 'O', 'O', 'O', 'O', 'O', 'O', 'O', 'O', 'O', 'O', 'O', 'O', 'O', 'O', 'O', 'O', 'O', 'O', 'O', 'O', 'O', 'O', 'O', 'O', 'O', 'O', 'O', 'O', 'O', 'O', 'O', 'O', 'O']\n"
     ]
    }
   ],
   "source": [
    "print('targets:',targets[0])"
   ]
  },
  {
   "cell_type": "markdown",
   "metadata": {},
   "source": [
    "##  基于字符的CRF"
   ]
  },
  {
   "cell_type": "code",
   "execution_count": 8,
   "metadata": {
    "collapsed": true
   },
   "outputs": [],
   "source": [
    "# 句子加入分割符号\n",
    "# <BOS>：一句话的开头\n",
    "# <EOS>: 一句话的结尾\n",
    "def sent_sep(array):\n",
    "    new_array = []\n",
    "    for sent in array:\n",
    "        sent.insert(0,'<BOS>')\n",
    "        sent.append('<EOS>')\n",
    "        new_array.append(sent)\n",
    "    return new_array\n",
    "new_sentences = sent_sep(sentences)"
   ]
  },
  {
   "cell_type": "code",
   "execution_count": 9,
   "metadata": {},
   "outputs": [
    {
     "data": {
      "text/plain": [
       "[['<BOS>', '人', '民'],\n",
       " ['人', '民', '网'],\n",
       " ['民', '网', '1'],\n",
       " ['网', '1', '月'],\n",
       " ['1', '月', '1'],\n",
       " ['月', '1', '日'],\n",
       " ['1', '日', '讯'],\n",
       " ['日', '讯', '据'],\n",
       " ['讯', '据', '《'],\n",
       " ['据', '《', '纽'],\n",
       " ['《', '纽', '约'],\n",
       " ['纽', '约', '时'],\n",
       " ['约', '时', '报'],\n",
       " ['时', '报', '》'],\n",
       " ['报', '》', '报'],\n",
       " ['》', '报', '道'],\n",
       " ['报', '道', ','],\n",
       " ['道', ',', '美'],\n",
       " [',', '美', '国'],\n",
       " ['美', '国', '华'],\n",
       " ['国', '华', '尔'],\n",
       " ['华', '尔', '街'],\n",
       " ['尔', '街', '股'],\n",
       " ['街', '股', '市'],\n",
       " ['股', '市', '在'],\n",
       " ['市', '在', '2'],\n",
       " ['在', '2', '0'],\n",
       " ['2', '0', '1'],\n",
       " ['0', '1', '3'],\n",
       " ['1', '3', '年'],\n",
       " ['3', '年', '的'],\n",
       " ['年', '的', '最'],\n",
       " ['的', '最', '后'],\n",
       " ['最', '后', '一'],\n",
       " ['后', '一', '天'],\n",
       " ['一', '天', '继'],\n",
       " ['天', '继', '续'],\n",
       " ['继', '续', '上'],\n",
       " ['续', '上', '涨'],\n",
       " ['上', '涨', ','],\n",
       " ['涨', ',', '和'],\n",
       " [',', '和', '全'],\n",
       " ['和', '全', '球'],\n",
       " ['全', '球', '股'],\n",
       " ['球', '股', '市'],\n",
       " ['股', '市', '一'],\n",
       " ['市', '一', '样'],\n",
       " ['一', '样', ','],\n",
       " ['样', ',', '都'],\n",
       " [',', '都', '以'],\n",
       " ['都', '以', '最'],\n",
       " ['以', '最', '高'],\n",
       " ['最', '高', '纪'],\n",
       " ['高', '纪', '录'],\n",
       " ['纪', '录', '或'],\n",
       " ['录', '或', '接'],\n",
       " ['或', '接', '近'],\n",
       " ['接', '近', '最'],\n",
       " ['近', '最', '高'],\n",
       " ['最', '高', '纪'],\n",
       " ['高', '纪', '录'],\n",
       " ['纪', '录', '结'],\n",
       " ['录', '结', '束'],\n",
       " ['结', '束', '本'],\n",
       " ['束', '本', '年'],\n",
       " ['本', '年', '的'],\n",
       " ['年', '的', '交'],\n",
       " ['的', '交', '易'],\n",
       " ['交', '易', '。'],\n",
       " ['易', '。', '<EOS>']]"
      ]
     },
     "execution_count": 9,
     "metadata": {},
     "output_type": "execute_result"
    }
   ],
   "source": [
    "def seg_by_window(sent,window=3):\n",
    "    \"\"\"采用滑动窗口截取句子，默认窗口大小为3，方便后面特征提取\"\"\"\n",
    "    n = len(sent)\n",
    "    flag = 0\n",
    "    new_sent = []\n",
    "    while flag < n-window+1:\n",
    "        new_sent.append(sent[flag:flag+window])\n",
    "        flag += 1\n",
    "    return new_sent\n",
    "\n",
    "sentences = []\n",
    "for sent in new_sentences:\n",
    "    item = seg_by_window(sent)\n",
    "    sentences.append(item)\n",
    "sentences[0]"
   ]
  },
  {
   "cell_type": "code",
   "execution_count": 11,
   "metadata": {
    "collapsed": true
   },
   "outputs": [],
   "source": [
    "def feature_dict(item):\n",
    "    \"\"\"构造特征模板\"\"\"\n",
    "    feat = {\n",
    "        'w-1':item[0],\n",
    "        'w':item[1],\n",
    "        'w+1':item[2],\n",
    "        'w-1:w':item[0]+item[1],\n",
    "        'w:w+1':item[1]+item[2],\n",
    "        'bias':1\n",
    "    }\n",
    "    return feat\n",
    "    \n",
    "def extract_feature(sentences):\n",
    "    \"\"\"提取特征\"\"\"\n",
    "    features = []\n",
    "    for sent in sentences:\n",
    "        feature_of_sent = []\n",
    "        for item in sent:\n",
    "            feat = feature_dict(item)\n",
    "            feature_of_sent.append(feat)\n",
    "        features.append(feature_of_sent)\n",
    "    return features"
   ]
  },
  {
   "cell_type": "code",
   "execution_count": null,
   "metadata": {},
   "outputs": [],
   "source": [
    "features = extract_feature(sentences)"
   ]
  },
  {
   "cell_type": "code",
   "execution_count": 289,
   "metadata": {},
   "outputs": [
    {
     "data": {
      "text/plain": [
       "[{'bias': 1,\n",
       "  'w': '人',\n",
       "  'w+1': '民',\n",
       "  'w-1': '<BOS>',\n",
       "  'w-1:w': '<BOS>人',\n",
       "  'w:w+1': '人民'},\n",
       " {'bias': 1, 'w': '民', 'w+1': '网', 'w-1': '人', 'w-1:w': '人民', 'w:w+1': '民网'},\n",
       " {'bias': 1, 'w': '网', 'w+1': '1', 'w-1': '民', 'w-1:w': '民网', 'w:w+1': '网1'},\n",
       " {'bias': 1, 'w': '1', 'w+1': '月', 'w-1': '网', 'w-1:w': '网1', 'w:w+1': '1月'},\n",
       " {'bias': 1, 'w': '月', 'w+1': '1', 'w-1': '1', 'w-1:w': '1月', 'w:w+1': '月1'},\n",
       " {'bias': 1, 'w': '1', 'w+1': '日', 'w-1': '月', 'w-1:w': '月1', 'w:w+1': '1日'},\n",
       " {'bias': 1, 'w': '日', 'w+1': '讯', 'w-1': '1', 'w-1:w': '1日', 'w:w+1': '日讯'},\n",
       " {'bias': 1, 'w': '讯', 'w+1': '据', 'w-1': '日', 'w-1:w': '日讯', 'w:w+1': '讯据'},\n",
       " {'bias': 1, 'w': '据', 'w+1': '《', 'w-1': '讯', 'w-1:w': '讯据', 'w:w+1': '据《'},\n",
       " {'bias': 1, 'w': '《', 'w+1': '纽', 'w-1': '据', 'w-1:w': '据《', 'w:w+1': '《纽'},\n",
       " {'bias': 1, 'w': '纽', 'w+1': '约', 'w-1': '《', 'w-1:w': '《纽', 'w:w+1': '纽约'},\n",
       " {'bias': 1, 'w': '约', 'w+1': '时', 'w-1': '纽', 'w-1:w': '纽约', 'w:w+1': '约时'},\n",
       " {'bias': 1, 'w': '时', 'w+1': '报', 'w-1': '约', 'w-1:w': '约时', 'w:w+1': '时报'},\n",
       " {'bias': 1, 'w': '报', 'w+1': '》', 'w-1': '时', 'w-1:w': '时报', 'w:w+1': '报》'},\n",
       " {'bias': 1, 'w': '》', 'w+1': '报', 'w-1': '报', 'w-1:w': '报》', 'w:w+1': '》报'},\n",
       " {'bias': 1, 'w': '报', 'w+1': '道', 'w-1': '》', 'w-1:w': '》报', 'w:w+1': '报道'},\n",
       " {'bias': 1, 'w': '道', 'w+1': ',', 'w-1': '报', 'w-1:w': '报道', 'w:w+1': '道,'},\n",
       " {'bias': 1, 'w': ',', 'w+1': '美', 'w-1': '道', 'w-1:w': '道,', 'w:w+1': ',美'},\n",
       " {'bias': 1, 'w': '美', 'w+1': '国', 'w-1': ',', 'w-1:w': ',美', 'w:w+1': '美国'},\n",
       " {'bias': 1, 'w': '国', 'w+1': '华', 'w-1': '美', 'w-1:w': '美国', 'w:w+1': '国华'},\n",
       " {'bias': 1, 'w': '华', 'w+1': '尔', 'w-1': '国', 'w-1:w': '国华', 'w:w+1': '华尔'},\n",
       " {'bias': 1, 'w': '尔', 'w+1': '街', 'w-1': '华', 'w-1:w': '华尔', 'w:w+1': '尔街'},\n",
       " {'bias': 1, 'w': '街', 'w+1': '股', 'w-1': '尔', 'w-1:w': '尔街', 'w:w+1': '街股'},\n",
       " {'bias': 1, 'w': '股', 'w+1': '市', 'w-1': '街', 'w-1:w': '街股', 'w:w+1': '股市'},\n",
       " {'bias': 1, 'w': '市', 'w+1': '在', 'w-1': '股', 'w-1:w': '股市', 'w:w+1': '市在'},\n",
       " {'bias': 1, 'w': '在', 'w+1': '2', 'w-1': '市', 'w-1:w': '市在', 'w:w+1': '在2'},\n",
       " {'bias': 1, 'w': '2', 'w+1': '0', 'w-1': '在', 'w-1:w': '在2', 'w:w+1': '20'},\n",
       " {'bias': 1, 'w': '0', 'w+1': '1', 'w-1': '2', 'w-1:w': '20', 'w:w+1': '01'},\n",
       " {'bias': 1, 'w': '1', 'w+1': '3', 'w-1': '0', 'w-1:w': '01', 'w:w+1': '13'},\n",
       " {'bias': 1, 'w': '3', 'w+1': '年', 'w-1': '1', 'w-1:w': '13', 'w:w+1': '3年'},\n",
       " {'bias': 1, 'w': '年', 'w+1': '的', 'w-1': '3', 'w-1:w': '3年', 'w:w+1': '年的'},\n",
       " {'bias': 1, 'w': '的', 'w+1': '最', 'w-1': '年', 'w-1:w': '年的', 'w:w+1': '的最'},\n",
       " {'bias': 1, 'w': '最', 'w+1': '后', 'w-1': '的', 'w-1:w': '的最', 'w:w+1': '最后'},\n",
       " {'bias': 1, 'w': '后', 'w+1': '一', 'w-1': '最', 'w-1:w': '最后', 'w:w+1': '后一'},\n",
       " {'bias': 1, 'w': '一', 'w+1': '天', 'w-1': '后', 'w-1:w': '后一', 'w:w+1': '一天'},\n",
       " {'bias': 1, 'w': '天', 'w+1': '继', 'w-1': '一', 'w-1:w': '一天', 'w:w+1': '天继'},\n",
       " {'bias': 1, 'w': '继', 'w+1': '续', 'w-1': '天', 'w-1:w': '天继', 'w:w+1': '继续'},\n",
       " {'bias': 1, 'w': '续', 'w+1': '上', 'w-1': '继', 'w-1:w': '继续', 'w:w+1': '续上'},\n",
       " {'bias': 1, 'w': '上', 'w+1': '涨', 'w-1': '续', 'w-1:w': '续上', 'w:w+1': '上涨'},\n",
       " {'bias': 1, 'w': '涨', 'w+1': ',', 'w-1': '上', 'w-1:w': '上涨', 'w:w+1': '涨,'},\n",
       " {'bias': 1, 'w': ',', 'w+1': '和', 'w-1': '涨', 'w-1:w': '涨,', 'w:w+1': ',和'},\n",
       " {'bias': 1, 'w': '和', 'w+1': '全', 'w-1': ',', 'w-1:w': ',和', 'w:w+1': '和全'},\n",
       " {'bias': 1, 'w': '全', 'w+1': '球', 'w-1': '和', 'w-1:w': '和全', 'w:w+1': '全球'},\n",
       " {'bias': 1, 'w': '球', 'w+1': '股', 'w-1': '全', 'w-1:w': '全球', 'w:w+1': '球股'},\n",
       " {'bias': 1, 'w': '股', 'w+1': '市', 'w-1': '球', 'w-1:w': '球股', 'w:w+1': '股市'},\n",
       " {'bias': 1, 'w': '市', 'w+1': '一', 'w-1': '股', 'w-1:w': '股市', 'w:w+1': '市一'},\n",
       " {'bias': 1, 'w': '一', 'w+1': '样', 'w-1': '市', 'w-1:w': '市一', 'w:w+1': '一样'},\n",
       " {'bias': 1, 'w': '样', 'w+1': ',', 'w-1': '一', 'w-1:w': '一样', 'w:w+1': '样,'},\n",
       " {'bias': 1, 'w': ',', 'w+1': '都', 'w-1': '样', 'w-1:w': '样,', 'w:w+1': ',都'},\n",
       " {'bias': 1, 'w': '都', 'w+1': '以', 'w-1': ',', 'w-1:w': ',都', 'w:w+1': '都以'},\n",
       " {'bias': 1, 'w': '以', 'w+1': '最', 'w-1': '都', 'w-1:w': '都以', 'w:w+1': '以最'},\n",
       " {'bias': 1, 'w': '最', 'w+1': '高', 'w-1': '以', 'w-1:w': '以最', 'w:w+1': '最高'},\n",
       " {'bias': 1, 'w': '高', 'w+1': '纪', 'w-1': '最', 'w-1:w': '最高', 'w:w+1': '高纪'},\n",
       " {'bias': 1, 'w': '纪', 'w+1': '录', 'w-1': '高', 'w-1:w': '高纪', 'w:w+1': '纪录'},\n",
       " {'bias': 1, 'w': '录', 'w+1': '或', 'w-1': '纪', 'w-1:w': '纪录', 'w:w+1': '录或'},\n",
       " {'bias': 1, 'w': '或', 'w+1': '接', 'w-1': '录', 'w-1:w': '录或', 'w:w+1': '或接'},\n",
       " {'bias': 1, 'w': '接', 'w+1': '近', 'w-1': '或', 'w-1:w': '或接', 'w:w+1': '接近'},\n",
       " {'bias': 1, 'w': '近', 'w+1': '最', 'w-1': '接', 'w-1:w': '接近', 'w:w+1': '近最'},\n",
       " {'bias': 1, 'w': '最', 'w+1': '高', 'w-1': '近', 'w-1:w': '近最', 'w:w+1': '最高'},\n",
       " {'bias': 1, 'w': '高', 'w+1': '纪', 'w-1': '最', 'w-1:w': '最高', 'w:w+1': '高纪'},\n",
       " {'bias': 1, 'w': '纪', 'w+1': '录', 'w-1': '高', 'w-1:w': '高纪', 'w:w+1': '纪录'},\n",
       " {'bias': 1, 'w': '录', 'w+1': '结', 'w-1': '纪', 'w-1:w': '纪录', 'w:w+1': '录结'},\n",
       " {'bias': 1, 'w': '结', 'w+1': '束', 'w-1': '录', 'w-1:w': '录结', 'w:w+1': '结束'},\n",
       " {'bias': 1, 'w': '束', 'w+1': '本', 'w-1': '结', 'w-1:w': '结束', 'w:w+1': '束本'},\n",
       " {'bias': 1, 'w': '本', 'w+1': '年', 'w-1': '束', 'w-1:w': '束本', 'w:w+1': '本年'},\n",
       " {'bias': 1, 'w': '年', 'w+1': '的', 'w-1': '本', 'w-1:w': '本年', 'w:w+1': '年的'},\n",
       " {'bias': 1, 'w': '的', 'w+1': '交', 'w-1': '年', 'w-1:w': '年的', 'w:w+1': '的交'},\n",
       " {'bias': 1, 'w': '交', 'w+1': '易', 'w-1': '的', 'w-1:w': '的交', 'w:w+1': '交易'},\n",
       " {'bias': 1, 'w': '易', 'w+1': '。', 'w-1': '交', 'w-1:w': '交易', 'w:w+1': '易。'},\n",
       " {'bias': 1,\n",
       "  'w': '。',\n",
       "  'w+1': '<EOS>',\n",
       "  'w-1': '易',\n",
       "  'w-1:w': '易。',\n",
       "  'w:w+1': '。<EOS>'}]"
      ]
     },
     "execution_count": 289,
     "metadata": {},
     "output_type": "execute_result"
    }
   ],
   "source": [
    "features[0]"
   ]
  },
  {
   "cell_type": "code",
   "execution_count": 290,
   "metadata": {},
   "outputs": [
    {
     "data": {
      "text/plain": [
       "229016"
      ]
     },
     "execution_count": 290,
     "metadata": {},
     "output_type": "execute_result"
    }
   ],
   "source": [
    "train_len = int(len(features)*0.8)\n",
    "train_len"
   ]
  },
  {
   "cell_type": "code",
   "execution_count": 291,
   "metadata": {
    "collapsed": true
   },
   "outputs": [],
   "source": [
    "X_train = features[:train_len]\n",
    "y_train = new_targets[:train_len]\n",
    "X_test = features[train_len:]\n",
    "y_test = new_targets[train_len:]"
   ]
  },
  {
   "cell_type": "code",
   "execution_count": 292,
   "metadata": {},
   "outputs": [
    {
     "name": "stdout",
     "output_type": "stream",
     "text": [
      "CPU times: user 4min 43s, sys: 1.8 s, total: 4min 44s\n",
      "Wall time: 4min 44s\n"
     ]
    }
   ],
   "source": [
    "%%time\n",
    "trainer = pycrfsuite.Trainer(verbose=False)\n",
    "for xseq,yseq in zip(X_train,y_train):\n",
    "    trainer.append(xseq,yseq)"
   ]
  },
  {
   "cell_type": "code",
   "execution_count": 293,
   "metadata": {
    "collapsed": true
   },
   "outputs": [],
   "source": [
    "# 参数设置\n",
    "trainer.set_params({'c1':1.0,'c2':1e-3,'max_iterations':100,'feature.possible_transitions':True})"
   ]
  },
  {
   "cell_type": "code",
   "execution_count": 295,
   "metadata": {},
   "outputs": [
    {
     "name": "stdout",
     "output_type": "stream",
     "text": [
      "CPU times: user 56min 50s, sys: 5.12 s, total: 56min 55s\n",
      "Wall time: 56min 50s\n"
     ]
    }
   ],
   "source": [
    "%%time\n",
    "trainer.train('../outputs/ner_2014_char_based.pycrfsuite')"
   ]
  },
  {
   "cell_type": "code",
   "execution_count": 296,
   "metadata": {},
   "outputs": [
    {
     "name": "stdout",
     "output_type": "stream",
     "text": [
      "-rw-rw-r-- 1 daizelin daizelin 470K 9月  20 21:22 ./ner_2018_char_based.pycrfsuite\r\n"
     ]
    }
   ],
   "source": [
    "!ls -lh ./ner_2018_char_based.pycrfsuite"
   ]
  },
  {
   "cell_type": "code",
   "execution_count": 297,
   "metadata": {
    "collapsed": true
   },
   "outputs": [],
   "source": [
    "def bio_classification_report(y_true, y_pred):\n",
    "    lb = LabelBinarizer()\n",
    "    y_true_combined = lb.fit_transform(list(chain.from_iterable(y_true)))\n",
    "    y_pred_combined = lb.transform(list(chain.from_iterable(y_pred)))\n",
    "    \n",
    "    tagset = set(lb.classes_) - {'O'}\n",
    "    tagset = sorted(tagset,key = lambda tag:tag.split('-',1)[::-1])\n",
    "    class_indices = {cls:idx for idx,cls in enumerate(lb.classes_)}\n",
    "    \n",
    "    return classification_report(\n",
    "        y_true_combined,\n",
    "        y_pred_combined,\n",
    "        labels=[class_indices[cls] for cls in tagset],\n",
    "        target_names = tagset,\n",
    "    )"
   ]
  },
  {
   "cell_type": "code",
   "execution_count": 298,
   "metadata": {},
   "outputs": [
    {
     "name": "stdout",
     "output_type": "stream",
     "text": [
      "CPU times: user 1min 4s, sys: 540 ms, total: 1min 4s\n",
      "Wall time: 1min 5s\n"
     ]
    }
   ],
   "source": [
    "%%time\n",
    "tagger = pycrfsuite.Tagger()\n",
    "tagger.open('../outputs/ner_2014_char_based.pycrfsuite')\n",
    "y_pred = [tagger.tag(xseq) for xseq in X_test]"
   ]
  },
  {
   "cell_type": "code",
   "execution_count": 299,
   "metadata": {},
   "outputs": [
    {
     "name": "stdout",
     "output_type": "stream",
     "text": [
      "             precision    recall  f1-score   support\n",
      "\n",
      "                  0.00      0.00      0.00         2\n",
      "      B_LOC       0.97      0.97      0.97     51825\n",
      "      B_ORG       0.98      0.97      0.98      3687\n",
      "      B_PER       0.96      0.92      0.94     46640\n",
      "        B_T       0.98      0.98      0.98     43415\n",
      "      I_LOC       0.96      0.95      0.96     80188\n",
      "      I_ORG       0.99      0.96      0.97      8266\n",
      "      I_PER       0.96      0.91      0.93     90070\n",
      "        I_T       0.98      0.99      0.98    115917\n",
      "\n",
      "avg / total       0.99      0.99      0.99   4758408\n",
      "\n"
     ]
    },
    {
     "name": "stderr",
     "output_type": "stream",
     "text": [
      "/home/daizelin/anaconda3/lib/python3.6/site-packages/sklearn/metrics/classification.py:1135: UndefinedMetricWarning: Precision and F-score are ill-defined and being set to 0.0 in labels with no predicted samples.\n",
      "  'precision', 'predicted', average, warn_for)\n"
     ]
    }
   ],
   "source": [
    "print(bio_classification_report(y_test,y_pred))"
   ]
  },
  {
   "cell_type": "code",
   "execution_count": 4,
   "metadata": {
    "collapsed": true
   },
   "outputs": [],
   "source": [
    "def predict(s):\n",
    "    s = list(s)\n",
    "    s.insert(0,'<BOS>')\n",
    "    s.append('<EOS>')\n",
    "    sent = seg_by_window(s)\n",
    "#     print(sent)\n",
    "    features = extract_feature([sent])\n",
    "#     print(features)\n",
    "    tagger = pycrfsuite.Tagger()\n",
    "    tagger.open('ner_2014_char_based.pycrfsuite')\n",
    "    y_pred = [tagger.tag(features[0])]\n",
    "#     print(y_pred)\n",
    "    return y_pred[0]"
   ]
  },
  {
   "cell_type": "code",
   "execution_count": null,
   "metadata": {
    "collapsed": true
   },
   "outputs": [],
   "source": [
    "\n",
    "for c, t in zip(input,y_pred[0]):\n",
    "    res.append(c+'/'+t)\n",
    "print(' '.join(res))"
   ]
  },
  {
   "cell_type": "code",
   "execution_count": 342,
   "metadata": {
    "collapsed": true
   },
   "outputs": [],
   "source": [
    "sent = '新华社北京9月11日电第二十二届国际检察官联合会年会暨会员代表大会11日上午在北京开幕。国家主席江泽民发来贺信， 对会议召开表示祝贺。'"
   ]
  },
  {
   "cell_type": "code",
   "execution_count": 6,
   "metadata": {
    "collapsed": true
   },
   "outputs": [],
   "source": [
    "def run_predcit(sent):\n",
    "    y = predict(sent)\n",
    "    res = []\n",
    "    for c, t in zip(list(sent.strip()),y):\n",
    "        res.append(c+'/'+t)\n",
    "    print(' '.join(res))"
   ]
  },
  {
   "cell_type": "code",
   "execution_count": 7,
   "metadata": {},
   "outputs": [
    {
     "name": "stdout",
     "output_type": "stream",
     "text": [
      "下/O 沙/O 世/O 贸/O 江/B_PER 滨/I_PER 花/O 园/O 骏/O 景/O 湾/O 5/O 幢/O 与/O 6/O 幢/O 之/O 间/O\n"
     ]
    }
   ],
   "source": [
    "run_predcit(sent)"
   ]
  },
  {
   "cell_type": "code",
   "execution_count": 350,
   "metadata": {
    "collapsed": true
   },
   "outputs": [],
   "source": [
    "sent2 = '1949年，她还曾到“华大”向戏剧系同志学习，也能和解放区的文艺工作者打成一片。'"
   ]
  },
  {
   "cell_type": "code",
   "execution_count": 351,
   "metadata": {},
   "outputs": [
    {
     "name": "stdout",
     "output_type": "stream",
     "text": [
      "1/B_T 9/I_T 4/I_T 9/I_T 年/I_T ，/O 她/O 还/O 曾/O 到/O “/O 华/O 大/O ”/O 向/O 戏/O 剧/O 系/O 同/O 志/O 学/O 习/O ，/O 也/O 能/O 和/O 解/B_LOC 放/I_LOC 区/I_LOC 的/O 文/O 艺/O 工/O 作/O 者/O 打/O 成/O 一/O 片/O 。/O\n"
     ]
    }
   ],
   "source": [
    "run_predcit(sent2)"
   ]
  }
 ],
 "metadata": {
  "kernelspec": {
   "display_name": "Python 3",
   "language": "python",
   "name": "python3"
  },
  "language_info": {
   "codemirror_mode": {
    "name": "ipython",
    "version": 3
   },
   "file_extension": ".py",
   "mimetype": "text/x-python",
   "name": "python",
   "nbconvert_exporter": "python",
   "pygments_lexer": "ipython3",
   "version": "3.6.2"
  }
 },
 "nbformat": 4,
 "nbformat_minor": 2
}
